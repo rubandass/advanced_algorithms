{
 "cells": [
  {
   "cell_type": "markdown",
   "metadata": {},
   "source": [
    "# Integrals"
   ]
  },
  {
   "cell_type": "markdown",
   "metadata": {},
   "source": [
    "We are going to cover how to do integration in Python. We will visit:\n",
    "\n",
    "- Analytical/Symbolic integration: compute the exact solution using mathematical integration rules\n",
    "\n",
    "- Numerical integration. This is going to be an approximate solution using the trapezoidal rule to approximate the area under the curve\n",
    "\n",
    "This is the function we want to integrate $f(x)=3x^2+1$. "
   ]
  },
  {
   "cell_type": "code",
   "execution_count": 1,
   "metadata": {},
   "outputs": [
    {
     "data": {
      "text/plain": [
       "[<matplotlib.lines.Line2D at 0x1fac9f6e160>]"
      ]
     },
     "execution_count": 1,
     "metadata": {},
     "output_type": "execute_result"
    },
    {
     "data": {
      "image/png": "[encoded data removed]",
      "text/plain": [
       "<Figure size 432x288 with 1 Axes>"
      ]
     },
     "metadata": {
      "needs_background": "light"
     },
     "output_type": "display_data"
    }
   ],
   "source": [
    "%matplotlib inline\n",
    "import matplotlib.pyplot as plt\n",
    "import numpy as np\n",
    "\n",
    "def f(x):\n",
    "    return 3*x**2+1\n",
    "\n",
    "\n",
    "x=np.linspace(-3, 3)\n",
    "plt.plot(x,f(x)) #Plot f(x)"
   ]
  },
  {
   "cell_type": "markdown",
   "metadata": {},
   "source": [
    "Let's say we want to integrate $f(x)$. We can calculate the solution by hand:\n",
    "\n",
    "$\\int_{0}^{2} (3x^2+1) dx=x^3+x+C$\n",
    "\n",
    "If we just want to calculate the area of the function from 0 to 2.\n",
    "\n",
    "$\\int_{0}^{2} (3x^2+1) dx=x^3+x+C \\mid_{0}^{2}=(2^3+2+C)-(0^3+0+C)=10$\n",
    "\n",
    "## Analytical/symbolic integration\n",
    "\n",
    "Let's now use the computer to find the indefinite integral analytically:"
   ]
  },
  {
   "cell_type": "code",
   "execution_count": 1,
   "metadata": {},
   "outputs": [
    {
     "data": {
      "text/plain": [
       "x**3 + x"
      ]
     },
     "execution_count": 1,
     "metadata": {},
     "output_type": "execute_result"
    }
   ],
   "source": [
    "import sympy as sp\n",
    "x=sp.Symbol('x')\n",
    "f=3*x**2+1\n",
    "sp.integrate(f,x) "
   ]
  },
  {
   "cell_type": "markdown",
   "metadata": {},
   "source": [
    "Let's now use the computer to find the definite integral analytically (the area below the function from $x=0$ to $x=2$:"
   ]
  },
  {
   "cell_type": "code",
   "execution_count": 2,
   "metadata": {},
   "outputs": [
    {
     "data": {
      "text/plain": [
       "10.0000000000000"
      ]
     },
     "execution_count": 2,
     "metadata": {},
     "output_type": "execute_result"
    }
   ],
   "source": [
    "sp.integrate(f,x).evalf(subs={x:2})-sp.integrate(f,x).evalf(subs={x:0})"
   ]
  },
  {
   "cell_type": "markdown",
   "metadata": {},
   "source": [
    "## Numerical integration\n",
    "\n",
    "Numerical integration is not necessarily perfectly accurate because although it is a more sophisticated version of the rectangle method using midpoints, there is error associated with it which is reflected in the accurary measure. The exact approach to calculating the area under a function or set of functions is to determine the antiderivative of the function  and then substitute values for the endpoints of the integral using the Evaluation Theorem. \n",
    "\n",
    "Let's now calculate the integral of $f(x)$ from 0 to 2 numerically (i.e. $\\int_0^2 3x^2 +1 dx $)"
   ]
  },
  {
   "cell_type": "code",
   "execution_count": 3,
   "metadata": {},
   "outputs": [
    {
     "name": "stdout",
     "output_type": "stream",
     "text": [
      "(10.000000000000002, 1.1102230246251568e-13)\n"
     ]
    }
   ],
   "source": [
    "from scipy.integrate import quad\n",
    "\n",
    "def f(x):\n",
    "    return 3*x**2+1\n",
    "\n",
    "i=quad(f,0,2)\n",
    "print(i)"
   ]
  },
  {
   "cell_type": "markdown",
   "metadata": {},
   "source": [
    "The first value returned is the actual estimated numerical integral. The second value is the estimate of the error. Remember that this is a numerical method which only offers an approximation to the analytical solution.\n",
    "\n",
    "Why would we evaluate an integral numerically, as opposed to symbolically given that numerical integration is not perfectly accurate? The answer is that many functions do not have an integral that evaluates symbolically, so numerical methods are required to approximate the integral."
   ]
  },
  {
   "cell_type": "markdown",
   "metadata": {},
   "source": [
    "## Finding Integrals using the online tool WolframAlpha\n",
    "\n",
    "Check out this online computational engine to Integrate a function and many other mathematical tools:\n",
    "\n",
    "What is the result of $\\int_{0}^{2} x^2 + 1 dx$? [Click here to find out](https://www.wolframalpha.com/input/?i=integrate+(3x%5E2+%2B1)+0+to+2)"
   ]
  },
  {
   "cell_type": "markdown",
   "metadata": {},
   "source": [
    "## Dialysis treatment application\n",
    "\n",
    "Dialysis treatment consist of removing urea and other waste products from a patient’s blood by diverting some of the blood flow externally through a machine called a dialyzer. The rate at which urea is removed from the blood (in mg/min) is often\n",
    "well described by the equation \n",
    "\n",
    "$\n",
    "\\Large\n",
    "c(t)=\\frac{K}{V}c_0e^{-K\\frac{t}{V}}$\n",
    "\n",
    "\n",
    "where $K$ is the rate of flow of blood through the dialyzer (in mL/min), $V$ is the volume of the patient’s blood (in mL),\n",
    "and $c_0$ is the amount of urea in the blood (in mg) at time $t = 0$. Let's evaluate the integral $\\int_{0}^{30}c(t) dt$ and interpret it.\n",
    "\n",
    "We begin by defining the function:"
   ]
  },
  {
   "cell_type": "code",
   "execution_count": 4,
   "metadata": {},
   "outputs": [],
   "source": [
    "sp.Function('c')\n",
    "t,K,V,c_0=sp.symbols('t,K,V,c_0') \n",
    "\n",
    "def c(t):\n",
    "    return K/V*c_0*sp.exp(-K*t/V) "
   ]
  },
  {
   "cell_type": "markdown",
   "metadata": {},
   "source": [
    "Integrate the function symbolically, i.e. find the antiderivative of the function"
   ]
  },
  {
   "cell_type": "code",
   "execution_count": 5,
   "metadata": {},
   "outputs": [
    {
     "data": {
      "text/plain": [
       "-c_0*exp(-K*t/V)"
      ]
     },
     "execution_count": 5,
     "metadata": {},
     "output_type": "execute_result"
    }
   ],
   "source": [
    "C_t=sp.integrate(c(t),t)\n",
    "C_t"
   ]
  },
  {
   "cell_type": "markdown",
   "metadata": {},
   "source": [
    "Use the Evaluation Theorem to evaluate the integral across an interval "
   ]
  },
  {
   "cell_type": "code",
   "execution_count": 6,
   "metadata": {},
   "outputs": [
    {
     "data": {
      "text/plain": [
       "c_0 - c_0*exp(-30*K/V)"
      ]
     },
     "execution_count": 6,
     "metadata": {},
     "output_type": "execute_result"
    }
   ],
   "source": [
    "C_t.subs(t,30)-C_t.subs(t,0) "
   ]
  },
  {
   "cell_type": "markdown",
   "metadata": {},
   "source": [
    "So $\\int_{0}^{30}\\frac{K}{V}c_0e^{-K\\frac{t}{V}}dt = \\int_{0}^{30}c(t)dt=c_0-c_0e^{(-30\\frac{K}{V})}$\n",
    "\n",
    "\n",
    "$c(t)$ is the rate urea is removed from by dialysis at time $t$, so $\\lim_{\\Delta t\\to 0} c(t)\\Delta t$ is the amount of\n",
    "urea that is removed over a very small time interval.\n",
    "\n",
    "An integral sums these very small amounts across the interval from a to b, which corresponds to the total amount of urea that is removed from time points a to b, where in our case a = 0 and b = 30. \n",
    "\n",
    "By substituting the constants $c_0$, $K$ and $V$ in $c_0-c_0e^{(-30\\frac{K}{V})}$ we would find out the total amount of urea removed by the machine in 30 minutes."
   ]
  },
  {
   "cell_type": "code",
   "execution_count": 7,
   "metadata": {},
   "outputs": [
    {
     "data": {
      "text/plain": [
       "0.0632120558828558"
      ]
     },
     "execution_count": 7,
     "metadata": {},
     "output_type": "execute_result"
    }
   ],
   "source": [
    "C_t.evalf(subs={t:30,K:0.2,V:6,c_0:0.1})-C_t.evalf(subs={t:0,K:0.2,V:6,c_0:0.1})"
   ]
  }
 ],
 "metadata": {
  "kernelspec": {
   "display_name": "Python 3",
   "language": "python",
   "name": "python3"
  },
  "language_info": {
   "codemirror_mode": {
    "name": "ipython",
    "version": 3
   },
   "file_extension": ".py",
   "mimetype": "text/x-python",
   "name": "python",
   "nbconvert_exporter": "python",
   "pygments_lexer": "ipython3",
   "version": "3.6.7"
  }
 },
 "nbformat": 4,
 "nbformat_minor": 2
}
