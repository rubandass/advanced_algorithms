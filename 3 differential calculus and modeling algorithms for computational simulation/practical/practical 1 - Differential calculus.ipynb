{
 "cells": [
  {
   "cell_type": "markdown",
   "metadata": {},
   "source": [
    "# Differential Calculus (i.e. Derivatives)"
   ]
  },
  {
   "cell_type": "markdown",
   "metadata": {},
   "source": [
    "## 2 popular methods to computationally calculate the derivative of a function $f(x)$\n",
    "\n",
    "- **Numerical differentiation** relies on the definition of the derivative: $\\large f'(x)=lim_{h\\to 0}=\\frac{f(x+h)-f(x)}{h}$ where you use a very small h and evaluate the function in two places $f(x+h)$ and $f(x)$ to get an approximation to the derivative. This way of calculating a derivative is suitable mostly if you do not know your function and can only sample it. Also it requires a lot of computation for a high-dimensional function. \n",
    "\n",
    "- **Symbolic/Analytical differentiation** uses derivative rules (product rule, power rule, chain rule, etc) to obtain the derivative\n",
    "\n",
    "    - $f(x)=3x^2 \\rightarrow f'(x)=6x$ (power rule)"
   ]
  },
  {
   "cell_type": "markdown",
   "metadata": {},
   "source": [
    "Let's calculate computationally the derivative of the function $f(x)=3x^2+1$, which we know it is $f'(x)=6x$\n",
    "\n",
    "### Symbolic/Analytical solutions to derivatives \n",
    "\n",
    "For symbolic differentiation we use the package `sympy`\n",
    "\n",
    "We define $f(x)=3x^2 + 1$ and then calculate its derivative $f'(x)=6x$ (df in the code)"
   ]
  },
  {
   "cell_type": "code",
   "execution_count": 3,
   "metadata": {},
   "outputs": [
    {
     "data": {
      "text/plain": [
       "6*x"
      ]
     },
     "execution_count": 3,
     "metadata": {},
     "output_type": "execute_result"
    }
   ],
   "source": [
    "import sympy as sp\n",
    "x=sp.Symbol('x')\n",
    "f=3*x**2+1\n",
    "df = sp.diff(f,x) #Derivative of f with respect to x. diff Stands for differentiate\n",
    "df"
   ]
  },
  {
   "cell_type": "markdown",
   "metadata": {},
   "source": [
    "Let's evaluate f'(x) at x=2"
   ]
  },
  {
   "cell_type": "code",
   "execution_count": 4,
   "metadata": {},
   "outputs": [
    {
     "data": {
      "text/plain": [
       "12.0000000000000"
      ]
     },
     "execution_count": 4,
     "metadata": {},
     "output_type": "execute_result"
    }
   ],
   "source": [
    "df.evalf(subs={x:2})"
   ]
  },
  {
   "cell_type": "markdown",
   "metadata": {},
   "source": [
    "So the rate of change $f'(x)$ of the function $f(x)=3x^2 + 1$ when $x=2$ is $12$. This means that precisely at $x=2$, a unit of increase in $x$, increases $f(x)$ by 12 units. "
   ]
  },
  {
   "cell_type": "markdown",
   "metadata": {},
   "source": [
    "### Numerical solutions to derivatives \n",
    "\n",
    "For numerical differentiation we can use the package `scipy`."
   ]
  },
  {
   "cell_type": "code",
   "execution_count": 5,
   "metadata": {},
   "outputs": [
    {
     "data": {
      "text/plain": [
       "12.0"
      ]
     },
     "execution_count": 5,
     "metadata": {},
     "output_type": "execute_result"
    }
   ],
   "source": [
    "from scipy.misc import derivative\n",
    "\n",
    "def f(x):\n",
    "    return 3*x**2+1\n",
    "\n",
    "derivative(f,2) #Evaluate the derivative of f at x=2"
   ]
  },
  {
   "cell_type": "markdown",
   "metadata": {},
   "source": [
    "The derivative of a function $f(x)$ at a point $x = a$ is equal to the rate of change in $f(x)$ at that\n",
    "point, or equivalently the slope of the line tangent to the function at the point $x = a$.\n",
    "The derivative of a function $f(x)$ at the point $x = a$ is defined to be equal to\n",
    "$f'(a)=lim_{\\Delta x \\to 0}=\\frac{f(a+\\Delta x)-f(a)}{\\Delta x}$\n",
    "\n",
    "Numerical differentiation uses the formula $f'(x)=\\frac{f(x+\\Delta x)}{\\Delta x}$ to approximate the derivative of $f(x)$ at a given value $x$"
   ]
  },
  {
   "cell_type": "code",
   "execution_count": 6,
   "metadata": {},
   "outputs": [
    {
     "data": {
      "text/plain": [
       "12.029999999999674"
      ]
     },
     "execution_count": 6,
     "metadata": {},
     "output_type": "execute_result"
    }
   ],
   "source": [
    "x = 2 #The value where we want to estimate the derivative of f(x)\n",
    "delta = 0.01 #∆x\n",
    "(f(2+delta)-f(2))/delta #f'(2)"
   ]
  },
  {
   "cell_type": "markdown",
   "metadata": {},
   "source": [
    "Notice that as you make delta (∆x) smaller, the approximation of the derivative gets better and better."
   ]
  },
  {
   "cell_type": "code",
   "execution_count": 7,
   "metadata": {},
   "outputs": [
    {
     "data": {
      "text/plain": [
       "12.000000992884452"
      ]
     },
     "execution_count": 7,
     "metadata": {},
     "output_type": "execute_result"
    }
   ],
   "source": [
    "x = 2 #The value where we want to estimate the derivative of f(x)\n",
    "delta = 0.000000001 #∆x\n",
    "(f(2+delta)-f(2))/delta #f'(2)"
   ]
  },
  {
   "cell_type": "markdown",
   "metadata": {},
   "source": [
    "So the derivative of $f(x)$ at $x=2$ is 12.\n",
    "\n",
    "Let's plot $f(x)$ and its derivative $f'(x)$ (aka $\\frac{d}{dx}f$)"
   ]
  },
  {
   "cell_type": "code",
   "execution_count": 24,
   "metadata": {},
   "outputs": [
    {
     "data": {
      "text/plain": [
       "<matplotlib.legend.Legend at 0x25f5334c898>"
      ]
     },
     "execution_count": 24,
     "metadata": {},
     "output_type": "execute_result"
    },
    {
     "data": {
      "image/png": "[encoded data removed]",
      "text/plain": [
       "<Figure size 432x288 with 1 Axes>"
      ]
     },
     "metadata": {
      "needs_background": "light"
     },
     "output_type": "display_data"
    }
   ],
   "source": [
    "%matplotlib inline\n",
    "import matplotlib.pyplot as plt\n",
    "import numpy as np\n",
    "\n",
    "def df(x): #Derivative of f at x\n",
    "    return derivative(f,x)\n",
    "\n",
    "x=np.linspace(-3, 3)\n",
    "plt.plot(x,f(x),label='f(x)') #Plot f(x)\n",
    "\n",
    "plt.plot(x,df(x),label='f\\'(x)') #Plot f'(x)\n",
    "plt.axvline(x=0,color='grey') #y axis\n",
    "plt.axhline(y=0,color='grey') #x axis\n",
    "\n",
    "plt.legend(loc='lower right',fontsize=18)"
   ]
  },
  {
   "cell_type": "markdown",
   "metadata": {},
   "source": [
    "The rate at which $f(x)$ is growing at $x=2$ is 12 ( one unit of increasing in $x$ leads to 12 units of increase in $y$."
   ]
  },
  {
   "cell_type": "markdown",
   "metadata": {},
   "source": [
    "## Using limits to calculate the derivative\n",
    "\n",
    "Let's use `sympy` to confirm that the derivative of the function $f(x) = 3x^2 + 1$ at the point $x = 2$ is $12$"
   ]
  },
  {
   "cell_type": "code",
   "execution_count": 25,
   "metadata": {},
   "outputs": [
    {
     "data": {
      "text/plain": [
       "6*a"
      ]
     },
     "execution_count": 25,
     "metadata": {},
     "output_type": "execute_result"
    }
   ],
   "source": [
    "import sympy as sp\n",
    "\n",
    "f=sp.Function('f')\n",
    "a,h,x=sp.symbols('a,h,x')\n",
    "\n",
    "def f(x):\n",
    "    return 3*x**2+1\n",
    "\n",
    "sp.limit((f(a+h)-f(a))/h,h,0)\n",
    " "
   ]
  },
  {
   "cell_type": "markdown",
   "metadata": {},
   "source": [
    "## Finding Derivatives using the online tool WolframAlpha\n",
    "\n",
    "Check out this online computational engine to compute derivatives a function and many other mathematical tools:\n",
    "\n",
    "What is the the derivative ($f'(x)$) of $f(x)=x^2$ (i.e. $\\frac{d}{dx} x^2)$ [Click here to find out](https://www.wolframalpha.com/input/?i=derivative+of+x%5E2)"
   ]
  },
  {
   "cell_type": "markdown",
   "metadata": {},
   "source": [
    "## Estimating derivatives from empirical data\n",
    "\n",
    "There are fairly sophisticated methods to estimate the derivative of an empirical function. Empirical functions are functions for which we don't have an analytical formula $f(x)$, we only have samples of the value of the function.\n",
    "\n",
    "Let's say Researchers measured the average blood alcohol concentration of eight men starting one hour after consumption of 30 mL of ethanol (corresponding to two alcoholic drinks):\n",
    "\n",
    "| t(hours) | c(t) (mg/mL) |\n",
    "|----------|----------|\n",
    "| 1      | 0.33      |\n",
    "| 1.5      | 0.24      |\n",
    "| 2     | 0.18     |\n",
    "| 2.5      | 0.12      |\n",
    "| 3     | 0.07     |\n",
    "\n",
    "First, let's plot the empirical function:"
   ]
  },
  {
   "cell_type": "code",
   "execution_count": 26,
   "metadata": {},
   "outputs": [
    {
     "data": {
      "image/png": "[encoded data removed]",
      "text/plain": [
       "<Figure size 432x288 with 1 Axes>"
      ]
     },
     "metadata": {
      "needs_background": "light"
     },
     "output_type": "display_data"
    }
   ],
   "source": [
    "t=[1.,1.5,2,2.5,3.] \n",
    "C=[0.33,0.24,0.18,0.12,0.07] \n",
    "\n",
    "import matplotlib.pyplot as plt \n",
    "plt.xlabel('time (hours)')\n",
    "plt.ylabel('C(t) (mg/ML)')\n",
    "plt.show(plt.plot(t,C,'ko')) "
   ]
  },
  {
   "cell_type": "markdown",
   "metadata": {},
   "source": [
    "Calculate the average rate of change of the blood alcohol concentration over the time interval `[1,2]`:"
   ]
  },
  {
   "cell_type": "code",
   "execution_count": 27,
   "metadata": {},
   "outputs": [
    {
     "data": {
      "text/plain": [
       "-0.15000000000000002"
      ]
     },
     "execution_count": 27,
     "metadata": {},
     "output_type": "execute_result"
    }
   ],
   "source": [
    " (C[2]-C[0])/(t[2]-t[0]) "
   ]
  },
  {
   "cell_type": "markdown",
   "metadata": {},
   "source": [
    "The negative sign indicates that the blood alcohol concentration is decreasing over the time interval [1,2] (as it's obvious from the plot above)"
   ]
  },
  {
   "cell_type": "markdown",
   "metadata": {},
   "source": [
    "## Second derivatives\n",
    "\n",
    "The $2^{nd}$ derivative of a function is the derivative of the derivative of a function. Let's say $f(x) = x^2 − 8x + 9$."
   ]
  },
  {
   "cell_type": "code",
   "execution_count": 28,
   "metadata": {},
   "outputs": [],
   "source": [
    "f=x**2-8*x+9"
   ]
  },
  {
   "cell_type": "markdown",
   "metadata": {},
   "source": [
    "The derivative of $f(x) = x^2 − 8x + 9$ is $f'(x)=2x-8$"
   ]
  },
  {
   "cell_type": "markdown",
   "metadata": {},
   "source": [
    "The $2^{nd}$ derivative of $f(x)$ (aka the derivative of $f'(x)$) is $f''(x)=2$. Computationally, we can carry out that computation by embedding the output of the 1st derivative in the input to calculate the 2nd derivative (i.e. recursive call):"
   ]
  },
  {
   "cell_type": "code",
   "execution_count": 29,
   "metadata": {},
   "outputs": [
    {
     "data": {
      "text/plain": [
       "2"
      ]
     },
     "execution_count": 29,
     "metadata": {},
     "output_type": "execute_result"
    }
   ],
   "source": [
    "sp.diff(sp.diff(f,x),x)"
   ]
  },
  {
   "cell_type": "markdown",
   "metadata": {},
   "source": [
    "## Finding the solutions/roots of functions\n",
    "\n",
    "The derivative forms the basis of two fundamental approaches in theoretical analysis of complex systems - approximations to functions and Newton's method for solving roots of equations.\n",
    "\n",
    "For example, often we seek to optimize a function by finding its local or global minimum or maximum. Those points will be located at the positions where $f(x)$ doesn't increase nor decrease. Those positions will correspond to points were the derivative $f'(x)$ (i.e. the rate of change of the function) is equal to zero. **So we can basically find out the maxima and minima of a function $f(x)$ by finding the roots/solutions of $f'(x)$**.\n",
    "\n",
    "The `sympy` library in Scientific Python has functions for finding roots of equations. The default approach used by `sympy` is the \"secant method\", which is an extension of Newton's method. \n",
    "\n",
    "Let's solve for the roots of the equation $f(x)=x^3-2x$ using `sympy`. Remember the roots are just the values of $x$ for which $f(x)=0$. "
   ]
  },
  {
   "cell_type": "code",
   "execution_count": 31,
   "metadata": {
    "scrolled": true
   },
   "outputs": [
    {
     "data": {
      "text/plain": [
       "[0, -sqrt(2), sqrt(2)]"
      ]
     },
     "execution_count": 31,
     "metadata": {},
     "output_type": "execute_result"
    }
   ],
   "source": [
    "from sympy import roots, solve, symbols\n",
    "x = symbols('x')\n",
    "f=x**3 - 2*x\n",
    "solve(f,x)"
   ]
  },
  {
   "cell_type": "markdown",
   "metadata": {},
   "source": [
    "Alternatively:"
   ]
  },
  {
   "cell_type": "code",
   "execution_count": 32,
   "metadata": {},
   "outputs": [
    {
     "data": {
      "text/plain": [
       "{-sqrt(2): 1, sqrt(2): 1, 0: 1}"
      ]
     },
     "execution_count": 32,
     "metadata": {},
     "output_type": "execute_result"
    }
   ],
   "source": [
    "roots(f)"
   ]
  },
  {
   "cell_type": "markdown",
   "metadata": {},
   "source": [
    "Let's plot the equation to check that the numerical solution is correct. Note that x and y axes were added to the plot at the origin to help us see when the function may be equal to y = 0 (those are the solutions/roots of the function)"
   ]
  },
  {
   "cell_type": "code",
   "execution_count": 33,
   "metadata": {},
   "outputs": [
    {
     "data": {
      "image/png": "[encoded data removed]",
      "text/plain": [
       "<Figure size 432x288 with 1 Axes>"
      ]
     },
     "metadata": {
      "needs_background": "light"
     },
     "output_type": "display_data"
    }
   ],
   "source": [
    "import numpy as np\n",
    "import matplotlib.pyplot as plt \n",
    "\n",
    "\n",
    "def f(x):\n",
    "    return x**3 - 2*x\n",
    "\n",
    "\n",
    "x = np.linspace(-3,3, 256, endpoint=True)\n",
    "y=f(x)\n",
    "plt.xlabel('x')\n",
    "plt.ylabel('f(x)')\n",
    "plt.axhline(linewidth=1,color = 'black')\n",
    "plt.axvline(linewidth=1,color = 'black')\n",
    "plt.show(plt.plot(x,y)) "
   ]
  },
  {
   "cell_type": "markdown",
   "metadata": {},
   "source": [
    "The function does cross y = 0 at $\\sqrt{-2}$, $0$ and $\\sqrt{2}$ so those are the roots of the polynomial. \n",
    "\n",
    "Let's consider modifying the function to be $f(x) = -2x+3$ and find the roots for this equation."
   ]
  },
  {
   "cell_type": "code",
   "execution_count": 34,
   "metadata": {},
   "outputs": [
    {
     "data": {
      "text/plain": [
       "[3/2]"
      ]
     },
     "execution_count": 34,
     "metadata": {},
     "output_type": "execute_result"
    }
   ],
   "source": [
    "from sympy import roots, solve\n",
    "x = symbols('x')\n",
    "f=-2*x +3\n",
    "solve(f,x)"
   ]
  },
  {
   "cell_type": "markdown",
   "metadata": {},
   "source": [
    "Plotting the equation indicates that this is the only root at $x=\\frac{3}{2}=1.5$: "
   ]
  },
  {
   "cell_type": "code",
   "execution_count": 35,
   "metadata": {
    "scrolled": true
   },
   "outputs": [
    {
     "data": {
      "image/png": "[encoded data removed]",
      "text/plain": [
       "<Figure size 432x288 with 1 Axes>"
      ]
     },
     "metadata": {
      "needs_background": "light"
     },
     "output_type": "display_data"
    }
   ],
   "source": [
    "x = np.linspace(-3,3, 256, endpoint=True)\n",
    "\n",
    "def f(x):\n",
    "    return -2*x +3\n",
    "\n",
    "y=f(x)\n",
    "\n",
    "plt.xlabel('x')\n",
    "plt.ylabel('f(x)')\n",
    "plt.axhline(linewidth=1,color = 'black')\n",
    "plt.axvline(linewidth=1,color = 'black')\n",
    "plt.show(plt.plot(x,y))\n"
   ]
  },
  {
   "cell_type": "markdown",
   "metadata": {},
   "source": [
    "#### References\n",
    "\n",
    "- [https://sciencedocbox.com/95365341-Physics/Chapter-3-derivatives.html](https://sciencedocbox.com/95365341-Physics/Chapter-3-derivatives.html)\n",
    "\n",
    "- [https://www.uoguelph.ca/ib/sites/uoguelph.ca.ib/files/public/Ch_3_S%26D%20%281%29_0.pdf](https://www.uoguelph.ca/ib/sites/uoguelph.ca.ib/files/public/Ch_3_S%26D%20%281%29_0.pdf)\n",
    "\n",
    "- [https://www.amazon.com/Calculus-Language-Change-David-Cohen/dp/0763729477](https://www.amazon.com/Calculus-Language-Change-David-Cohen/dp/0763729477)"
   ]
  }
 ],
 "metadata": {
  "kernelspec": {
   "display_name": "Python 3",
   "language": "python",
   "name": "python3"
  },
  "language_info": {
   "codemirror_mode": {
    "name": "ipython",
    "version": 3
   },
   "file_extension": ".py",
   "mimetype": "text/x-python",
   "name": "python",
   "nbconvert_exporter": "python",
   "pygments_lexer": "ipython3",
   "version": "3.7.3"
  }
 },
 "nbformat": 4,
 "nbformat_minor": 2
}
